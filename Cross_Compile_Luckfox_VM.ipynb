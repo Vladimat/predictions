{
  "nbformat": 4,
  "nbformat_minor": 0,
  "metadata": {
    "colab": {
      "provenance": [],
      "include_colab_link": true
    },
    "kernelspec": {
      "name": "python3",
      "display_name": "Python 3"
    },
    "language_info": {
      "name": "python"
    }
  },
  "cells": [
    {
      "cell_type": "markdown",
      "metadata": {
        "id": "view-in-github",
        "colab_type": "text"
      },
      "source": [
        "<a href=\"https://colab.research.google.com/github/Vladimat/predictions/blob/master/Cross_Compile_Luckfox_VM.ipynb\" target=\"_parent\"><img src=\"https://colab.research.google.com/assets/colab-badge.svg\" alt=\"Open In Colab\"/></a>"
      ]
    },
    {
      "cell_type": "markdown",
      "source": [
        "## Скачивание кросс-компилятора"
      ],
      "metadata": {
        "id": "gVIE5m1ITuZ9"
      }
    },
    {
      "cell_type": "code",
      "source": [
        "!git clone https://github.com/LuckfoxTECH/luckfox-pico/"
      ],
      "metadata": {
        "id": "2kMWqu12Trnv",
        "colab": {
          "base_uri": "https://localhost:8080/"
        },
        "outputId": "971256c0-08e0-4716-b521-d16076af07e7"
      },
      "execution_count": 1,
      "outputs": [
        {
          "output_type": "stream",
          "name": "stdout",
          "text": [
            "Cloning into 'luckfox-pico'...\n",
            "remote: Enumerating objects: 133549, done.\u001b[K\n",
            "remote: Counting objects: 100% (110/110), done.\u001b[K\n",
            "remote: Compressing objects: 100% (54/54), done.\u001b[K\n",
            "remote: Total 133549 (delta 75), reused 56 (delta 56), pack-reused 133439 (from 2)\u001b[K\n",
            "Receiving objects: 100% (133549/133549), 1007.35 MiB | 18.12 MiB/s, done.\n",
            "Resolving deltas: 100% (29948/29948), done.\n",
            "Updating files: 100% (119174/119174), done.\n"
          ]
        }
      ]
    },
    {
      "cell_type": "code",
      "source": [
        "%env GCC_COMPILER=/content/luckfox-pico/tools/linux/toolchain/arm-rockchip830-linux-uclibcgnueabihf/bin/arm-rockchip830-linux-uclibcgnueabihf"
      ],
      "metadata": {
        "colab": {
          "base_uri": "https://localhost:8080/"
        },
        "id": "JQSh9QJVT2zy",
        "outputId": "49e0fcaa-edd0-471b-a24c-157881b5e927"
      },
      "execution_count": 18,
      "outputs": [
        {
          "output_type": "stream",
          "name": "stdout",
          "text": [
            "env: GCC_COMPILER=/content/luckfox-pico/tools/linux/toolchain/arm-rockchip830-linux-uclibcgnueabihf/bin/arm-rockchip830-linux-uclibcgnueabihf\n"
          ]
        }
      ]
    },
    {
      "cell_type": "markdown",
      "source": [
        "## Сборка проекта"
      ],
      "metadata": {
        "id": "oMqfsYkdTsL3"
      }
    },
    {
      "cell_type": "code",
      "source": [
        "!echo $GCC_COMPILER"
      ],
      "metadata": {
        "colab": {
          "base_uri": "https://localhost:8080/"
        },
        "id": "09bsGhqiT9NG",
        "outputId": "6220fef3-0f00-4619-bbb9-8f6cf4211ed0"
      },
      "execution_count": 19,
      "outputs": [
        {
          "output_type": "stream",
          "name": "stdout",
          "text": [
            "/content/luckfox-pico/tools/linux/toolchain/arm-rockchip830-linux-uclibcgnueabihf/bin/arm-rockchip830-linux-uclibcgnueabihf\n"
          ]
        }
      ]
    },
    {
      "cell_type": "code",
      "source": [
        "!git clone https://github.com/LuckfoxTECH/luckfox_pico_rkmpi_example.git"
      ],
      "metadata": {
        "id": "hy-vE_YAnrUi",
        "outputId": "b2cceda0-0aad-447b-92de-100e2f46bdb9",
        "colab": {
          "base_uri": "https://localhost:8080/"
        }
      },
      "execution_count": 4,
      "outputs": [
        {
          "output_type": "stream",
          "name": "stdout",
          "text": [
            "Cloning into 'luckfox_pico_rkmpi_example'...\n",
            "remote: Enumerating objects: 1377, done.\u001b[K\n",
            "remote: Counting objects: 100% (503/503), done.\u001b[K\n",
            "remote: Compressing objects: 100% (407/407), done.\u001b[K\n",
            "remote: Total 1377 (delta 112), reused 468 (delta 88), pack-reused 874 (from 1)\u001b[K\n",
            "Receiving objects: 100% (1377/1377), 52.28 MiB | 18.51 MiB/s, done.\n",
            "Resolving deltas: 100% (345/345), done.\n"
          ]
        }
      ]
    },
    {
      "cell_type": "code",
      "source": [
        "!export LUCKFOX_SDK_PATH=/content/luckfox-pico"
      ],
      "metadata": {
        "id": "_PTtfBxRqyaK"
      },
      "execution_count": 20,
      "outputs": []
    },
    {
      "cell_type": "code",
      "source": [
        "!echo $LUCKFOX_SDK_PATH"
      ],
      "metadata": {
        "id": "oD04tgx6rniB",
        "outputId": "5b700ad4-5d36-4c6c-d317-15a377b78f57",
        "colab": {
          "base_uri": "https://localhost:8080/"
        }
      },
      "execution_count": 22,
      "outputs": [
        {
          "output_type": "stream",
          "name": "stdout",
          "text": [
            "/content/luckfox-pico\n"
          ]
        }
      ]
    },
    {
      "cell_type": "code",
      "source": [
        "%cd /content/luckfox_pico_rkmpi_example"
      ],
      "metadata": {
        "id": "xwgxigUMn0OF",
        "outputId": "eeebb181-586f-4f55-a328-7cac3c54b473",
        "colab": {
          "base_uri": "https://localhost:8080/"
        }
      },
      "execution_count": 23,
      "outputs": [
        {
          "output_type": "stream",
          "name": "stdout",
          "text": [
            "/content/luckfox_pico_rkmpi_example\n"
          ]
        }
      ]
    },
    {
      "cell_type": "code",
      "source": [
        "!./build.sh"
      ],
      "metadata": {
        "id": "4_IQ6qBcqFng",
        "outputId": "94b3d732-8643-4269-f1be-7bc8cf5a7111",
        "colab": {
          "base_uri": "https://localhost:8080/"
        }
      },
      "execution_count": null,
      "outputs": [
        {
          "output_type": "stream",
          "name": "stdout",
          "text": [
            "1) luckfox_pico_rtsp_opencv\t     4) luckfox_pico_rtsp_retinaface_osd\n",
            "2) luckfox_pico_rtsp_opencv_capture  5) luckfox_pico_rtsp_yolov5\n",
            "3) luckfox_pico_rtsp_retinaface\n",
            "Enter your choice [1-5]: "
          ]
        }
      ]
    },
    {
      "cell_type": "code",
      "execution_count": null,
      "metadata": {
        "colab": {
          "base_uri": "https://localhost:8080/"
        },
        "id": "jCefLbadTiok",
        "outputId": "a4143ccf-2367-4a34-b309-72291d423f12"
      },
      "outputs": [
        {
          "output_type": "stream",
          "name": "stdout",
          "text": [
            "/content/Yolov8CustomNPU/Yolov8/cpp\n"
          ]
        }
      ],
      "source": [
        "# saved\n",
        "#!git clone https://github.com/ret7020/Yolov8CustomNPU\n",
        "#%cd /content/Yolov8CustomNPU/Yolov8/cpp"
      ]
    },
    {
      "cell_type": "code",
      "source": [
        "!mkdir build\n",
        "%cd build"
      ],
      "metadata": {
        "colab": {
          "base_uri": "https://localhost:8080/"
        },
        "id": "tdvirYPbUgpb",
        "outputId": "ae988388-24e2-4c50-82bd-f0457e60781f"
      },
      "execution_count": 9,
      "outputs": [
        {
          "output_type": "stream",
          "name": "stdout",
          "text": [
            "/content/luckfox_pico_rkmpi_example/example/luckfox_pico_rtsp_yolov5/src/build\n"
          ]
        }
      ]
    },
    {
      "cell_type": "code",
      "source": [
        "!cmake .."
      ],
      "metadata": {
        "id": "5PybryBBUw76",
        "colab": {
          "base_uri": "https://localhost:8080/"
        },
        "outputId": "50355674-aee9-4086-cf41-8e73827b428e"
      },
      "execution_count": 10,
      "outputs": [
        {
          "output_type": "stream",
          "name": "stdout",
          "text": [
            "\u001b[33mCMake Warning:\n",
            "  Ignoring extra path from command line:\n",
            "\n",
            "   \"..\"\n",
            "\n",
            "\u001b[0m\n",
            "\u001b[0mCMake Error: The source directory \"/content/luckfox_pico_rkmpi_example/example/luckfox_pico_rtsp_yolov5/src\" does not appear to contain CMakeLists.txt.\n",
            "Specify --help for usage, or press the help button on the CMake GUI.\u001b[0m\n"
          ]
        }
      ]
    },
    {
      "cell_type": "code",
      "source": [
        "!make install"
      ],
      "metadata": {
        "id": "etdFNlkmU7Gj",
        "colab": {
          "base_uri": "https://localhost:8080/"
        },
        "outputId": "b780ab08-90e0-41d7-f7c6-0b4c43ed3329"
      },
      "execution_count": 11,
      "outputs": [
        {
          "output_type": "stream",
          "name": "stdout",
          "text": [
            "make: *** No rule to make target 'install'.  Stop.\n"
          ]
        }
      ]
    },
    {
      "cell_type": "code",
      "source": [
        "!zip -r /content/proj ../bin"
      ],
      "metadata": {
        "id": "g-iI_9HxU9tj"
      },
      "execution_count": null,
      "outputs": []
    }
  ]
}